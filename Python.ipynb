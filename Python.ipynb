{
  "nbformat": 4,
  "nbformat_minor": 0,
  "metadata": {
    "colab": {
      "provenance": []
    },
    "kernelspec": {
      "name": "python3",
      "display_name": "Python 3"
    },
    "language_info": {
      "name": "python"
    }
  },
  "cells": [
    {
      "cell_type": "markdown",
      "source": [
        "# Python\n"
      ],
      "metadata": {
        "id": "6NlX3rX4E7Ay"
      }
    },
    {
      "cell_type": "markdown",
      "source": [
        "\n",
        " 1.  What is Python, and why is it popular ?\n",
        "\n",
        " Ans. Python is a high-level, interpreted, general-purpose programming language that emphasizes simplicity, readability, and versatility. It was created by Guido van Rossum and first released in 1991. Python follows the philosophy of writing code that is easy to read and understand, often described by its guiding principle:\n",
        "\n",
        "“Simple is better than complex, and readability counts.” (from The Zen of Python)\n",
        "\n",
        " Why Python is Popular\n",
        "\n",
        "Python has become one of the most widely used programming languages in the world because of several key reasons:\n",
        "\n",
        "Simple & Readable Syntax\n",
        "\n",
        "Its syntax is very close to human language, making it easy to learn for beginners and efficient for experienced developers.\n",
        "\n",
        "Example: Printing “Hello, World!” requires just one line:\n",
        "\n",
        "print(\"Hello, World!\")\n",
        "\n",
        "\n",
        "Versatility\n",
        "\n",
        "Python can be used for web development, data science, machine learning, automation, scripting, game development, IoT, and more.\n",
        "\n",
        "Large Standard Library & Frameworks\n",
        "\n",
        "Comes with a “batteries included” philosophy (built-in modules for math, file handling, networking, etc.).\n",
        "\n",
        "Huge ecosystem of third-party libraries and frameworks (like Django, Flask, NumPy, Pandas, TensorFlow).\n",
        "\n",
        "Cross-Platform & Open Source\n",
        "\n",
        "Works on Windows, macOS, Linux, and even mobile platforms.\n",
        "\n",
        "Free and open-source, supported by a large community.\n",
        "\n",
        "Strong Community Support\n",
        "\n",
        "Millions of developers contribute tutorials, forums, open-source packages, and Q&A, which makes problem-solving easier.\n",
        "\n",
        "High Demand in Industry\n",
        "\n",
        "Used by top companies like Google, YouTube, Instagram, Spotify, Netflix, and NASA.\n",
        "\n",
        "Dominant in AI, machine learning, and data science, which drives its popularity further.\n",
        "\n",
        "2.  What is an interpreter in Python ?\n",
        "\n",
        "Ans. In Python, an interpreter is the program that executes Python code line by line instead of compiling the entire code into machine language at once (like C or Java compilers do).\n",
        "\n",
        " How the Python Interpreter Works\n",
        "\n",
        "You write code in a .py file (e.g., hello.py).\n",
        "\n",
        "The Python interpreter reads your code.\n",
        "\n",
        "It converts the code into an intermediate form called bytecode.\n",
        "\n",
        "The Python Virtual Machine (PVM) executes that bytecode on your computer.\n",
        "\n",
        " Key Points about the Python Interpreter\n",
        "\n",
        "Line by line execution → If an error occurs, it stops immediately and shows you the error.\n",
        "\n",
        "Makes Python programs easier to debug, since you see results instantly.\n",
        "\n",
        "Different implementations exist:\n",
        "\n",
        "CPython → Default and most widely used (written in C).\n",
        "\n",
        "PyPy → Faster, uses Just-In-Time (JIT) compilation.\n",
        "\n",
        "Jython → Runs Python code on the Java platform.\n",
        "\n",
        "IronPython → Runs Python on the .NET framework.\n",
        "\n",
        " Example in Action\n",
        "\n",
        "If you type this in the Python interpreter (interactive shell):\n",
        "\n",
        ">>> print(\"Hello, World!\")\n",
        "\n",
        "\n",
        "The interpreter immediately executes it and shows:\n",
        "\n",
        "Hello, World!\n",
        "\n",
        "3.  What are pre-defined keywords in Python ?\n",
        "\n",
        "Ans. In Python, pre-defined keywords (also called reserved words) are special words that have fixed meanings and purposes in the language.\n",
        "\n",
        "You cannot use them as variable names, function names, or identifiers because Python uses them to define its syntax and structure.\n",
        "\n",
        "They are always written in lowercase (except True, False, and None).\n",
        "\n",
        " Examples of Python Keywords\n",
        "\n",
        "Here are some commonly used ones, grouped by purpose:\n",
        "\n",
        "Control flow keywords\n",
        "\n",
        "if, elif, else, for, while, break, continue, pass\n",
        "\n",
        "Boolean and comparison\n",
        "\n",
        "True, False, and, or, not, is, in\n",
        "\n",
        "Value keywords\n",
        "\n",
        "None\n",
        "\n",
        "Function and class related\n",
        "\n",
        "def, return, yield, lambda, class\n",
        "\n",
        "Exception handling\n",
        "\n",
        "try, except, finally, raise, assert\n",
        "\n",
        "Import and module management\n",
        "\n",
        "import, from, as\n",
        "\n",
        "Others\n",
        "\n",
        "with, global, nonlocal, del\n",
        "\n",
        " How to See All Keywords in Python\n",
        "\n",
        "You can check all the keywords in your version of Python using the keyword module:\n",
        "\n",
        "import keyword\n",
        "print(keyword.kwlist)\n",
        "\n",
        "\n",
        " Output (Python 3.12 has soft keywords, so the list may slightly vary):\n",
        "\n",
        "['False', 'None', 'True', 'and', 'as', 'assert', 'break',\n",
        " 'class', 'continue', 'def', 'del', 'elif', 'else', 'except',\n",
        " 'finally', 'for', 'from', 'global', 'if', 'import', 'in',\n",
        " 'is', 'lambda', 'nonlocal', 'not', 'or', 'pass', 'raise',\n",
        " 'return', 'try', 'while', 'with', 'yield']\n",
        "\n",
        "4. Can keywords be used as variable names ?\n",
        "\n",
        "Ans.  No, keywords cannot be used as variable names in Python.\n",
        "\n",
        " Why not?\n",
        "\n",
        "Keywords are reserved words in Python.\n",
        "\n",
        "They already have a special meaning and are part of the language’s syntax.\n",
        "\n",
        "If you try to use them as variable names, Python will get confused about whether you mean the keyword or a variable.\n",
        "\n",
        " Example\n",
        "if = 10\n",
        "print(if)\n",
        "\n",
        "\n",
        " Output:\n",
        "\n",
        "SyntaxError: invalid syntax\n",
        "\n",
        "\n",
        "Here, if is a keyword used for conditions, so Python doesn’t allow it as a variable name.\n",
        "\n",
        "5. What is mutability in Python ?\n",
        "\n",
        "Ans.In Python, mutability refers to whether or not the value of an object can be changed after it is created.\n",
        "\n",
        " Types of Objects\n",
        "\n",
        "Mutable objects → Can be changed after creation.\n",
        "\n",
        "Examples: list, dict, set, bytearray\n",
        "\n",
        "You can add, remove, or modify elements without changing the object’s identity.\n",
        "\n",
        "numbers = [1, 2, 3]\n",
        "numbers[0] = 10   # changing the first element\n",
        "print(numbers)    # [10, 2, 3]\n",
        "\n",
        "\n",
        "Here, the list numbers is modified in place.\n",
        "\n",
        "Immutable objects → Cannot be changed after creation.\n",
        "\n",
        "Examples: int, float, string, tuple, frozenset, bool\n",
        "\n",
        "If you \"change\" them, a new object is created instead.\n",
        "\n",
        "text = \"hello\"\n",
        "text = text + \" world\"\n",
        "print(text)        # \"hello world\"\n",
        "\n",
        "\n",
        "Notice: Instead of modifying \"hello\", Python created a new string \"hello world\" and reassigned it to text.\n",
        "\n",
        "6. Why are lists mutable, but tuples are immutable ?\n",
        "\n",
        "Ans.  Lists are mutable because:\n",
        "\n",
        "They are designed to store collections of items that may change.\n",
        "\n",
        "You can add, remove, or modify elements inside the same list without creating a new object.\n",
        "\n",
        "Example:\n",
        "\n",
        "my_list = [1, 2, 3]\n",
        "my_list[0] = 10        # modify\n",
        "my_list.append(4)      # add\n",
        "print(my_list)         # [10, 2, 3, 4]\n",
        "\n",
        "\n",
        "Here, the same list object is updated in place.\n",
        "\n",
        " Tuples are immutable because:\n",
        "\n",
        "They are meant to be fixed collections of items.\n",
        "\n",
        "Once created, the contents of a tuple cannot be changed — no adding, removing, or modifying.\n",
        "\n",
        "Example:\n",
        "\n",
        "my_tuple = (1, 2, 3)\n",
        "my_tuple[0] = 10       #  Error\n",
        "\n",
        "\n",
        " Output:\n",
        "\n",
        "TypeError: 'tuple' object does not support item assignment\n",
        "\n",
        " Why did Python designers make this distinction?\n",
        "\n",
        "Performance\n",
        "\n",
        "Immutable objects (like tuples) are faster to access and use less memory in certain cases.\n",
        "\n",
        "Since they don’t change, Python can optimize storage and reuse them.\n",
        "\n",
        "Safety\n",
        "\n",
        "Tuples are often used as keys in dictionaries or elements in sets.\n",
        "\n",
        "Dictionary keys must be hashable → only immutable objects can be hashed reliably.\n",
        "\n",
        "Example:\n",
        "\n",
        "my_dict = {(1, 2): \"point\"}   #  works\n",
        "my_dict[[1, 2]] = \"point\"     # TypeError (list is mutable)\n",
        "\n",
        "\n",
        "Use case difference\n",
        "\n",
        "List → for dynamic, changeable data.\n",
        "\n",
        "Tuple → for fixed, constant collections (like c)\n",
        "\n",
        "7. What is the difference between “==” and “is” operators in Python?\n",
        "\n",
        "Ans. This is a very important distinction in Python.\n",
        "\n",
        " == (Equality Operator)\n",
        "\n",
        "Compares the values of two objects.\n",
        "\n",
        "Returns True if the contents are the same, even if they are stored in different memory locations.\n",
        "\n",
        " Example:\n",
        "\n",
        "a = [1, 2, 3]\n",
        "b = [1, 2, 3]\n",
        "\n",
        "print(a == b)   # True (contents are equal)\n",
        "\n",
        "\n",
        "Here, both lists have the same elements, so == is True.\n",
        "\n",
        " is (Identity Operator)\n",
        "\n",
        "Compares the memory address (identity) of two objects.\n",
        "\n",
        "Returns True if both variables point to the same object in memory.\n",
        "\n",
        " Example:\n",
        "\n",
        "a = [1, 2, 3]\n",
        "b = [1, 2, 3]\n",
        "\n",
        "print(a is b)   # False (different objects in memory)\n",
        "print(a == b)   # True  (values are the same)\n",
        "\n",
        " Another Example (with small integers / strings)\n",
        "\n",
        "Python optimizes some objects (like small integers and short strings) by reusing them in memory.\n",
        "\n",
        "x = 100\n",
        "y = 100\n",
        "\n",
        "print(x == y)   # True (values are same)\n",
        "print(x is y)   # True (Python reused the same object)\n",
        "\n",
        "\n",
        "But with bigger numbers or different objects:\n",
        "\n",
        "x = 1000\n",
        "y = 1000\n",
        "\n",
        "print(x == y)   # True\n",
        "print(x is y)   # False (different memory objects).\n",
        "\n",
        "\n",
        "8. What are logical operators in Python?\n",
        "\n",
        "Ans.In Python, logical operators are used to combine conditional statements and return a Boolean result (True or False).\n",
        "\n",
        "There are three logical operators in Python:\n",
        "\n",
        " 1. and\n",
        "\n",
        "Returns True if both conditions are True.\n",
        "\n",
        "Otherwise, returns False.\n",
        "\n",
        "Example:\n",
        "\n",
        "x = 5\n",
        "print(x > 2 and x < 10)   # True (both conditions are True)\n",
        "print(x > 2 and x > 10)   # False (second condition is False)\n",
        "\n",
        " 2. or\n",
        "\n",
        "Returns True if at least one condition is True.\n",
        "\n",
        "Returns False only if both conditions are False.\n",
        "\n",
        "Example:\n",
        "\n",
        "x = 5\n",
        "print(x > 2 or x > 10)   # True (first condition is True)\n",
        "print(x < 2 or x > 10)   # False (both conditions are False)\n",
        "\n",
        " 3. not\n",
        "\n",
        "Reverses the result of a condition.\n",
        "\n",
        "If condition is True, not makes it False, and vice versa.\n",
        "\n",
        "Example:\n",
        "\n",
        "x = 5\n",
        "print(not(x > 2))   # False (because x > 2 is True, so not makes it False)\n",
        "print(not(x < 2))   # True  (because x < 2 is False, so not makes it True).\n",
        "\n",
        "9. What is type casting in Python ?\n",
        "\n",
        "Ans. Type casting in Python means converting one data type into another.\n",
        "For example, changing an integer into a string, a float into an integer, etc.\n",
        "\n",
        "Python provides two types of type casting:\n",
        "\n",
        "1. Implicit Type Casting (Type Conversion)\n",
        "\n",
        "Done automatically by Python.\n",
        "\n",
        "Also called type conversion.\n",
        "\n",
        "Occurs when Python converts a smaller data type into a larger data type to avoid data loss.\n",
        "\n",
        "Example:\n",
        "\n",
        "x = 5        # int\n",
        "y = 2.5      # float\n",
        "z = x + y    # int + float → float\n",
        "print(z)     # 7.5\n",
        "print(type(z))  # <class 'float'>\n",
        "\n",
        "\n",
        "Here, Python automatically converted int (5) into a float before addition.\n",
        "\n",
        "2. Explicit Type Casting (Type Casting)\n",
        "\n",
        "Done manually using built-in functions.\n",
        "\n",
        "You explicitly tell Python to convert one type to another.\n",
        "\n",
        "Common functions:\n",
        "\n",
        "int() → Converts to integer\n",
        "\n",
        "float() → Converts to float\n",
        "\n",
        "str() → Converts to string\n",
        "\n",
        "list() → Converts to list\n",
        "\n",
        "tuple() → Converts to tuple\n",
        "\n",
        "set() → Converts to set\n",
        "\n",
        "Example:\n",
        "\n",
        "a = \"100\"\n",
        "b = int(a)   # string → int\n",
        "c = float(a) # string → float\n",
        "\n",
        "print(b, type(b))   # 100 <class 'int'>\n",
        "print(c, type(c))   # 100.0 <class 'float'>.\n",
        "\n",
        "10. What is the difference between implicit and explicit type casting ?\n",
        "\n",
        "Ans. Here’s a clear breakdown of the difference between implicit and explicit type casting in Python:\n",
        "\n",
        "Feature\tImplicit Type Casting\tExplicit Type Casting\n",
        "Definition\tAutomatic conversion of one data type to another by Python\tManual conversion of one data type to another by the programmer\n",
        "Performed by\tPython interpreter\tProgrammer\n",
        "Syntax\tNo syntax required\tUses built-in functions like int(), float(), str(), etc.\n",
        "Data Loss\tRarely causes data loss (Python handles it safely)\tCan cause data loss if conversion is not compatible (e.g., float to int)\n",
        "Example\tpython x = 5 y = 2.5 z = x + y print(z, type(z)) # 7.5 <class 'float'>\tpython a = \"100\" b = int(a) print(b, type(b)) # 100 <class 'int'>\n",
        "Also Called\tType conversion\tType casting\n",
        "\n",
        "Summary:\n",
        "\n",
        "Implicit = Python automatically converts types.\n",
        "\n",
        "Explicit = You manually tell Python to convert types.\n",
        "\n",
        "If you want, I can also make a tiny diagram showing implicit vs explicit casting—it’s very easy to remember visually. Do you want me to do that.\n",
        "\n",
        "11. What is the purpose of conditional statements in Python ?\n",
        "\n",
        "Ans. The purpose of conditional statements in Python is to allow the program to make decisions and execute certain blocks of code only if specific conditions are true.\n",
        "\n",
        "In other words, they help the program choose between different paths based on conditions.\n",
        "\n",
        "Key Points:\n",
        "\n",
        "Decision Making\n",
        "Conditional statements let the program respond differently in different situations.\n",
        "\n",
        "Control Flow\n",
        "They control the flow of the program by executing code only when certain conditions are met.\n",
        "\n",
        "Reduce Redundancy\n",
        "Instead of writing multiple programs for different scenarios, you can use conditional statements to handle all cases in one program.\n",
        "\n",
        "Syntax Examples:\n",
        "\n",
        "1. if statement executes code if a condition is True\n",
        "\n",
        "age = 18\n",
        "if age >= 18:\n",
        "    print(\"You are an adult\")\n",
        "\n",
        "\n",
        "2. if-else statement executes one block if True, another if False\n",
        "\n",
        "age = 16\n",
        "if age >= 18:\n",
        "    print(\"You are an adult\")\n",
        "else:\n",
        "    print(\"You are a minor\")\n",
        "\n",
        "\n",
        "3. if-elif-else statement multiple conditions\n",
        "\n",
        "marks = 75\n",
        "if marks >= 90:\n",
        "    print(\"Grade: A\")\n",
        "elif marks >= 70:\n",
        "    print(\"Grade: B\")\n",
        "else:\n",
        "    print(\"Grade: C\").\n",
        "\n",
        "\n",
        "12. How does the elif statement work ?\n",
        "\n",
        "Ans. In Python, the elif statement is short for “else if” and is used to check multiple conditions after an initial if statement. It allows you to handle more than two possible paths in your program.\n",
        "\n",
        "Here’s how it works:\n",
        "\n",
        "Python first checks the if condition.\n",
        "\n",
        "If the if condition is True, its block executes, and Python skips all remaining elif and else blocks.\n",
        "\n",
        "If the if condition is False, Python moves to the first elif and checks its condition.\n",
        "\n",
        "If that elif is True, its block executes, and Python skips the remaining elifs and else.\n",
        "\n",
        "If none of the if or elif conditions are True, Python executes the else block (if present).\n",
        "\n",
        "Syntax:\n",
        "\n",
        "if condition1:\n",
        "    # Code block for condition1\n",
        "elif condition2:\n",
        "    # Code block for condition2\n",
        "elif condition3:\n",
        "    # Code block for condition3\n",
        "else:\n",
        "    # Code block if none of the above conditions are True\n",
        "\n",
        "\n",
        "Example:\n",
        "\n",
        "score = 85\n",
        "\n",
        "if score >= 90:\n",
        "    print(\"Grade A\")\n",
        "elif score >= 75:\n",
        "    print(\"Grade B\")\n",
        "elif score >= 60:\n",
        "    print(\"Grade C\")\n",
        "else:\n",
        "    print(\"Fail\")\n",
        "\n",
        "\n",
        "Output:\n",
        "\n",
        "Grade B\n",
        "\n",
        "\n",
        "Here, Python checks the if (False), then the first elif (True), executes it, and skips the rest.\n",
        "\n",
        " Key points:\n",
        "\n",
        "You can have multiple elif statements.\n",
        "\n",
        "elif is optional, but else is optional too.\n",
        "\n",
        "Only one block executes in a chain of if → elif → else.\n",
        "\n",
        "13. What is the difference between for and while loops ?\n",
        "\n",
        "Ans.In Python, both for and while loops are used for repeating a block of code, but they work differently and are used in different situations. Here's a clear breakdown:\n",
        "\n",
        "1. for loop\n",
        "\n",
        "Used when you know in advance how many times you want to repeat something.\n",
        "\n",
        "Iterates over a sequence (like a list, tuple, string, or range of numbers).\n",
        "\n",
        "Automatically moves to the next item in the sequence each time.\n",
        "\n",
        "Syntax:\n",
        "\n",
        "for item in sequence:\n",
        "    # Code block\n",
        "\n",
        "\n",
        "Example:\n",
        "\n",
        "fruits = [\"apple\", \"banana\", \"cherry\"]\n",
        "for fruit in fruits:\n",
        "    print(fruit)\n",
        "\n",
        "\n",
        "Output:\n",
        "\n",
        "apple\n",
        "banana\n",
        "cherry\n",
        "\n",
        "\n",
        "Key point:\n",
        "The for loop stops automatically after going through all items in the sequence.\n",
        "\n",
        "2. while loop\n",
        "\n",
        "Used when you want to repeat something as long as a condition is True.\n",
        "\n",
        "The number of repetitions is not known in advance.\n",
        "\n",
        "You must manually update variables that affect the condition, otherwise you could create an infinite loop.\n",
        "\n",
        "Syntax:\n",
        "\n",
        "while condition:\n",
        "    # Code block\n",
        "\n",
        "\n",
        "Example:\n",
        "\n",
        "count = 0\n",
        "while count < 3:\n",
        "    print(count)\n",
        "    count += 1\n",
        "\n",
        "\n",
        "Output:\n",
        "\n",
        "0\n",
        "1\n",
        "2\n",
        "\n",
        "\n",
        "Key point:\n",
        "while loops continue until the condition becomes False.\n",
        "\n",
        "14. Describe a scenario where a while loop is more suitable than a for loop.\n",
        "\n",
        "Ans. Here’s a scenario where a **while loop** is more suitable than a for` loop:\n",
        "\n",
        "Scenario: User Input Validation\n",
        "\n",
        "Suppose you want to ask a user to enter a password that meets certain criteria (e.g., at least 8 characters long). You don’t know in advance how many attempts the user will take to enter a valid password.\n",
        "\n",
        "This is ideal for a while loop because you want to keep repeating until a condition is met.\n",
        "\n",
        "Example:\n",
        "\n",
        "password = \"\"\n",
        "while len(password) < 8:\n",
        "    password = input(\"Enter a password (at least 8 characters): \")\n",
        "print(\"Password accepted!\")\n",
        "\n",
        "\n",
        "Explanation:\n",
        "\n",
        "The loop continues until the user enters a password that is 8 or more characters long.\n",
        "\n",
        "We don’t know the number of iterations in advance, so a for loop isn’t practical here.\n",
        "\n",
        "\n",
        "\n",
        "#.Practical Questions:-\n",
        "\n",
        "1. Write a Python program to print \"Hello, World!\"\n",
        "\n",
        "Ans.\n",
        "\n",
        "\n",
        "\n",
        "\n",
        "\n",
        "\n",
        "\n"
      ],
      "metadata": {
        "id": "qaSM2sHGFKRe"
      }
    },
    {
      "cell_type": "code",
      "source": [
        "# This program prints \"Hello, World!\" to the console\n",
        "print(\"Hello, World!\")\n"
      ],
      "metadata": {
        "colab": {
          "base_uri": "https://localhost:8080/"
        },
        "id": "zI15bmTKNLgJ",
        "outputId": "83c8ccc2-abaf-41ac-ded1-68c5a536827a"
      },
      "execution_count": null,
      "outputs": [
        {
          "output_type": "stream",
          "name": "stdout",
          "text": [
            "Hello, World!\n"
          ]
        }
      ]
    },
    {
      "cell_type": "markdown",
      "source": [
        "2. Write a Python program that displays your name and age.\n",
        "\n",
        "Ans."
      ],
      "metadata": {
        "id": "J7T720ryNZ6D"
      }
    },
    {
      "cell_type": "code",
      "source": [
        "# Ask the user for their name and age\n",
        "name = input(\"Enter your name: \")\n",
        "age = input(\"Enter your age: \")\n",
        "\n",
        "# Display the name and age\n",
        "print(\"Your name is\", name, \"and you are\", age, \"years old.\")\n"
      ],
      "metadata": {
        "colab": {
          "base_uri": "https://localhost:8080/"
        },
        "id": "sM60qtOiNlgg",
        "outputId": "202c5753-40fe-4bdd-b544-1173155238c7"
      },
      "execution_count": null,
      "outputs": [
        {
          "output_type": "stream",
          "name": "stdout",
          "text": [
            "Enter your name: nand\n",
            "Enter your age: 21\n",
            "Your name is nand and you are 21 years old.\n"
          ]
        }
      ]
    },
    {
      "cell_type": "markdown",
      "source": [
        "3. Write code to print all the pre-defined keywords in Python using the keyword library.\n",
        "\n",
        "Ans."
      ],
      "metadata": {
        "id": "_-fiO55UN1Qo"
      }
    },
    {
      "cell_type": "code",
      "source": [
        "# Import the keyword module\n",
        "import keyword\n",
        "\n",
        "# Print all the pre-defined keywords in Python\n",
        "print(\"Python keywords are:\")\n",
        "print(keyword.kwlist)\n"
      ],
      "metadata": {
        "colab": {
          "base_uri": "https://localhost:8080/"
        },
        "id": "z4g8dOphN_Z_",
        "outputId": "ec381cf3-03ca-49b4-d801-30977633dbc9"
      },
      "execution_count": null,
      "outputs": [
        {
          "output_type": "stream",
          "name": "stdout",
          "text": [
            "Python keywords are:\n",
            "['False', 'None', 'True', 'and', 'as', 'assert', 'async', 'await', 'break', 'class', 'continue', 'def', 'del', 'elif', 'else', 'except', 'finally', 'for', 'from', 'global', 'if', 'import', 'in', 'is', 'lambda', 'nonlocal', 'not', 'or', 'pass', 'raise', 'return', 'try', 'while', 'with', 'yield']\n"
          ]
        }
      ]
    },
    {
      "cell_type": "markdown",
      "source": [
        "4. Write a program that checks if a given word is a Python keyword.\n",
        "\n",
        "Ans."
      ],
      "metadata": {
        "id": "WzY8rvJDOO4M"
      }
    },
    {
      "cell_type": "code",
      "source": [
        "# Import the keyword module\n",
        "import keyword\n",
        "\n",
        "# Ask the user for a word\n",
        "word = input(\"Enter a word to check: \")\n",
        "\n",
        "# Check if the word is a Python keyword\n",
        "if keyword.iskeyword(word):\n",
        "    print(f'\"{word}\" is a Python keyword.')\n",
        "else:\n",
        "    print(f'\"{word}\" is NOT a Python keyword.')\n"
      ],
      "metadata": {
        "colab": {
          "base_uri": "https://localhost:8080/"
        },
        "id": "6Y96lxVUOoHV",
        "outputId": "74ec1808-928d-4b1c-cd37-3666362d04bc"
      },
      "execution_count": null,
      "outputs": [
        {
          "output_type": "stream",
          "name": "stdout",
          "text": [
            "Enter a word to check: break\n",
            "\"break\" is a Python keyword.\n"
          ]
        }
      ]
    },
    {
      "cell_type": "markdown",
      "source": [
        "5. Create a list and tuple in Python, and demonstrate how attempting to change an element works differently\n",
        "for each.\n",
        "\n",
        "Ans."
      ],
      "metadata": {
        "id": "1KFtnulCO1BG"
      }
    },
    {
      "cell_type": "code",
      "source": [
        "# Create a list and a tuple\n",
        "my_list = [10, 20, 30]\n",
        "my_tuple = (10, 20, 30)\n",
        "\n",
        "# Display original list and tuple\n",
        "print(\"Original list:\", my_list)\n",
        "print(\"Original tuple:\", my_tuple)\n",
        "\n",
        "# Attempt to change the first element\n",
        "my_list[0] = 100      # Works, because lists are mutable\n",
        "print(\"Modified list:\", my_list)\n",
        "\n",
        "# Attempt to change the first element of tuple\n",
        "try:\n",
        "    my_tuple[0] = 100  # This will cause an error, because tuples are immutable\n",
        "except TypeError as e:\n",
        "    print(\"Error when modifying tuple:\", e)\n"
      ],
      "metadata": {
        "colab": {
          "base_uri": "https://localhost:8080/"
        },
        "id": "yHN6qLTrO80r",
        "outputId": "7699c76c-5784-439c-a079-761be0c994c0"
      },
      "execution_count": null,
      "outputs": [
        {
          "output_type": "stream",
          "name": "stdout",
          "text": [
            "Original list: [10, 20, 30]\n",
            "Original tuple: (10, 20, 30)\n",
            "Modified list: [100, 20, 30]\n",
            "Error when modifying tuple: 'tuple' object does not support item assignment\n"
          ]
        }
      ]
    },
    {
      "cell_type": "markdown",
      "source": [
        "6. Write a function to demonstrate the behavior of mutable and immutable arguments.\n",
        "\n",
        "Ans."
      ],
      "metadata": {
        "id": "Bp9F2zcyPEr1"
      }
    },
    {
      "cell_type": "code",
      "source": [
        "# Function to modify arguments\n",
        "def modify(x, y):\n",
        "    print(\"\\nInside function:\")\n",
        "    x += 10          # Immutable (int) change\n",
        "    y.append(4)      # Mutable (list) change\n",
        "    print(\"x (inside):\", x)\n",
        "    print(\"y (inside):\", y)\n",
        "\n",
        "# Immutable argument\n",
        "a = 5\n",
        "\n",
        "# Mutable argument\n",
        "b = [1, 2, 3]\n",
        "\n",
        "print(\"Before function call:\")\n",
        "print(\"a:\", a)\n",
        "print(\"b:\", b)\n",
        "\n",
        "# Call the function\n",
        "modify(a, b)\n",
        "\n",
        "print(\"\\nAfter function call:\")\n",
        "print(\"a:\", a)  # Remains unchanged (immutable)\n",
        "print(\"b:\", b)  # Changed (mutable)\n"
      ],
      "metadata": {
        "colab": {
          "base_uri": "https://localhost:8080/"
        },
        "id": "YYa-07mnPM1j",
        "outputId": "bfabf11b-ebf6-4f3c-9064-a1f1d0f36fff"
      },
      "execution_count": null,
      "outputs": [
        {
          "output_type": "stream",
          "name": "stdout",
          "text": [
            "Before function call:\n",
            "a: 5\n",
            "b: [1, 2, 3]\n",
            "\n",
            "Inside function:\n",
            "x (inside): 15\n",
            "y (inside): [1, 2, 3, 4]\n",
            "\n",
            "After function call:\n",
            "a: 5\n",
            "b: [1, 2, 3, 4]\n"
          ]
        }
      ]
    },
    {
      "cell_type": "markdown",
      "source": [
        "7. Write a program that performs basic arithmetic operations on two user-input numbers.\n",
        "\n",
        "Ans."
      ],
      "metadata": {
        "id": "UP8FEmDxPVCB"
      }
    },
    {
      "cell_type": "code",
      "source": [
        "# Ask the user for two numbers\n",
        "num1 = float(input(\"Enter the first number: \"))\n",
        "num2 = float(input(\"Enter the second number: \"))\n",
        "\n",
        "# Perform arithmetic operations\n",
        "addition = num1 + num2\n",
        "subtraction = num1 - num2\n",
        "multiplication = num1 * num2\n",
        "division = num1 / num2 if num2 != 0 else \"Undefined (division by zero)\"\n",
        "modulus = num1 % num2 if num2 != 0 else \"Undefined (modulus by zero)\"\n",
        "\n",
        "# Display the results\n",
        "print(\"\\nResults:\")\n",
        "print(f\"{num1} + {num2} = {addition}\")\n",
        "print(f\"{num1} - {num2} = {subtraction}\")\n",
        "print(f\"{num1} * {num2} = {multiplication}\")\n",
        "print(f\"{num1} / {num2} = {division}\")\n",
        "print(f\"{num1} % {num2} = {modulus}\")\n"
      ],
      "metadata": {
        "colab": {
          "base_uri": "https://localhost:8080/"
        },
        "id": "eIZTcc_mPbdm",
        "outputId": "6932ed78-171f-4365-cc2a-1067b3dc7beb"
      },
      "execution_count": null,
      "outputs": [
        {
          "output_type": "stream",
          "name": "stdout",
          "text": [
            "Enter the first number: 1.5\n",
            "Enter the second number: 2.5\n",
            "\n",
            "Results:\n",
            "1.5 + 2.5 = 4.0\n",
            "1.5 - 2.5 = -1.0\n",
            "1.5 * 2.5 = 3.75\n",
            "1.5 / 2.5 = 0.6\n",
            "1.5 % 2.5 = 1.5\n"
          ]
        }
      ]
    },
    {
      "cell_type": "markdown",
      "source": [
        "8. Write a program to demonstrate the use of logical operators.\n",
        "\n",
        "Ans."
      ],
      "metadata": {
        "id": "rXdJciK0Pqze"
      }
    },
    {
      "cell_type": "code",
      "source": [
        "# Example values\n",
        "x = 10\n",
        "y = 5\n",
        "z = 20\n",
        "\n",
        "# Using 'and' operator\n",
        "if x > y and z > x:\n",
        "    print(\"'and' operator: Both conditions are True\")\n",
        "\n",
        "# Using 'or' operator\n",
        "if x < y or z > x:\n",
        "    print(\"'or' operator: At least one condition is True\")\n",
        "\n",
        "# Using 'not' operator\n",
        "if not x < y:\n",
        "    print(\"'not' operator: Condition is False, so 'not' makes it True\")\n"
      ],
      "metadata": {
        "colab": {
          "base_uri": "https://localhost:8080/"
        },
        "id": "qDZvuuSdPwjW",
        "outputId": "9f43b2a3-4875-482e-da7a-25b950fa587f"
      },
      "execution_count": null,
      "outputs": [
        {
          "output_type": "stream",
          "name": "stdout",
          "text": [
            "'and' operator: Both conditions are True\n",
            "'or' operator: At least one condition is True\n",
            "'not' operator: Condition is False, so 'not' makes it True\n"
          ]
        }
      ]
    },
    {
      "cell_type": "markdown",
      "source": [
        "9. Write a Python program to convert user input from string to integer, float, and boolean types.\n",
        "\n",
        "Ans."
      ],
      "metadata": {
        "id": "sMq0tXNNP7wH"
      }
    },
    {
      "cell_type": "code",
      "source": [
        "# Take input from the user as a string\n",
        "user_input = input(\"Enter something: \")\n",
        "\n",
        "# Convert to integer\n",
        "try:\n",
        "    int_value = int(user_input)\n",
        "    print(\"Integer:\", int_value)\n",
        "except ValueError:\n",
        "    print(\"Cannot convert to integer.\")\n",
        "\n",
        "# Convert to float\n",
        "try:\n",
        "    float_value = float(user_input)\n",
        "    print(\"Float:\", float_value)\n",
        "except ValueError:\n",
        "    print(\"Cannot convert to float.\")\n",
        "\n",
        "# Convert to boolean\n",
        "# In Python, an empty string evaluates to False, anything else is True\n",
        "bool_value = bool(user_input)\n",
        "print(\"Boolean:\", bool_value)\n"
      ],
      "metadata": {
        "colab": {
          "base_uri": "https://localhost:8080/"
        },
        "id": "hEc8XWa3QCEO",
        "outputId": "bbc351c2-c542-45f9-c439-100318e6b888"
      },
      "execution_count": null,
      "outputs": [
        {
          "output_type": "stream",
          "name": "stdout",
          "text": [
            "Enter something: 2\n",
            "Integer: 2\n",
            "Float: 2.0\n",
            "Boolean: True\n"
          ]
        }
      ]
    },
    {
      "cell_type": "markdown",
      "source": [
        "10. Write code to demonstrate type casting with list elements.\n",
        "\n",
        "Ans."
      ],
      "metadata": {
        "id": "noiaPPCsQUZz"
      }
    },
    {
      "cell_type": "code",
      "source": [
        "# Original list with mixed string numbers\n",
        "original_list = [\"10\", \"20\", \"30.5\", \"40.7\", \"50\"]\n",
        "\n",
        "print(\"Original list:\", original_list)\n",
        "\n",
        "# Convert all elements to integers (will fail for float strings directly)\n",
        "int_list = []\n",
        "for item in original_list:\n",
        "    try:\n",
        "        int_list.append(int(float(item)))  # first convert to float, then int\n",
        "    except ValueError:\n",
        "        print(f\"Cannot convert '{item}' to int\")\n",
        "\n",
        "print(\"List with elements as integers:\", int_list)\n",
        "\n",
        "# Convert all elements to floats\n",
        "float_list = []\n",
        "for item in original_list:\n",
        "    try:\n",
        "        float_list.append(float(item))\n",
        "    except ValueError:\n",
        "        print(f\"Cannot convert '{item}' to float\")\n",
        "\n",
        "print(\"List with elements as floats:\", float_list)\n",
        "\n",
        "# Convert all elements to strings (even if already strings, just to demonstrate)\n",
        "str_list = [str(item) for item in original_list]\n",
        "print(\"List with elements as strings:\", str_list)\n"
      ],
      "metadata": {
        "colab": {
          "base_uri": "https://localhost:8080/"
        },
        "id": "tFxA-aqoQbmU",
        "outputId": "57c7f8a3-ef43-438f-d488-7790246e4122"
      },
      "execution_count": null,
      "outputs": [
        {
          "output_type": "stream",
          "name": "stdout",
          "text": [
            "Original list: ['10', '20', '30.5', '40.7', '50']\n",
            "List with elements as integers: [10, 20, 30, 40, 50]\n",
            "List with elements as floats: [10.0, 20.0, 30.5, 40.7, 50.0]\n",
            "List with elements as strings: ['10', '20', '30.5', '40.7', '50']\n"
          ]
        }
      ]
    },
    {
      "cell_type": "markdown",
      "source": [
        "11. Write a program that checks if a number is positive, negative, or zero.\n",
        "\n",
        "Ans."
      ],
      "metadata": {
        "id": "30h_kSYCQluo"
      }
    },
    {
      "cell_type": "code",
      "source": [
        "# Get input from the user\n",
        "num = float(input(\"Enter a number: \"))\n",
        "\n",
        "# Check if the number is positive, negative, or zero\n",
        "if num > 0:\n",
        "    print(\"The number is positive.\")\n",
        "elif num < 0:\n",
        "    print(\"The number is negative.\")\n",
        "else:\n",
        "    print(\"The number is zero.\")\n"
      ],
      "metadata": {
        "colab": {
          "base_uri": "https://localhost:8080/"
        },
        "id": "HCym4I5hQsu8",
        "outputId": "52689ea2-4641-4d9f-ddb0-af4631ffe7c4"
      },
      "execution_count": null,
      "outputs": [
        {
          "output_type": "stream",
          "name": "stdout",
          "text": [
            "Enter a number: 0\n",
            "The number is zero.\n"
          ]
        }
      ]
    },
    {
      "cell_type": "markdown",
      "source": [
        "12. Write a for loop to print numbers from 1 to 10.\n",
        "\n",
        "Ans."
      ],
      "metadata": {
        "id": "mSeSpWWyQ9zu"
      }
    },
    {
      "cell_type": "code",
      "source": [
        "# Using a for loop to print numbers from 1 to 10\n",
        "for i in range(1, 11):\n",
        "    print(i)\n"
      ],
      "metadata": {
        "colab": {
          "base_uri": "https://localhost:8080/"
        },
        "id": "3Z6HzmYZRGGt",
        "outputId": "4b82117e-15ee-482a-f521-0a04e8211b4b"
      },
      "execution_count": null,
      "outputs": [
        {
          "output_type": "stream",
          "name": "stdout",
          "text": [
            "1\n",
            "2\n",
            "3\n",
            "4\n",
            "5\n",
            "6\n",
            "7\n",
            "8\n",
            "9\n",
            "10\n"
          ]
        }
      ]
    },
    {
      "cell_type": "markdown",
      "source": [
        "13. Write a Python program to find the sum of all even numbers between 1 and 50.\n",
        "\n",
        "Ans."
      ],
      "metadata": {
        "id": "y0R2uwMSRO_-"
      }
    },
    {
      "cell_type": "code",
      "source": [
        "# Initialize sum\n",
        "total = 0\n",
        "\n",
        "# Loop through numbers from 1 to 50\n",
        "for num in range(1, 51):\n",
        "    if num % 2 == 0:  # Check if the number is even\n",
        "        total += num  # Add even number to total\n",
        "\n",
        "print(\"The sum of all even numbers from 1 to 50 is:\", total)\n"
      ],
      "metadata": {
        "colab": {
          "base_uri": "https://localhost:8080/"
        },
        "id": "ahi-X3TjRVaa",
        "outputId": "cac18edb-d6fd-4520-bd19-f13a0756b0e9"
      },
      "execution_count": null,
      "outputs": [
        {
          "output_type": "stream",
          "name": "stdout",
          "text": [
            "The sum of all even numbers from 1 to 50 is: 650\n"
          ]
        }
      ]
    },
    {
      "cell_type": "markdown",
      "source": [
        "14. Write a program to reverse a string using a while loop.\n",
        "\n",
        "Ans."
      ],
      "metadata": {
        "id": "vjxNhzynRdpI"
      }
    },
    {
      "cell_type": "code",
      "source": [
        "# Get input from the user\n",
        "string = input(\"Enter a string: \")\n",
        "\n",
        "# Initialize variables\n",
        "reversed_string = \"\"\n",
        "index = len(string) - 1  # Start from the last character\n",
        "\n",
        "# Loop until index reaches 0\n",
        "while index >= 0:\n",
        "    reversed_string += string[index]  # Add current character to reversed string\n",
        "    index -= 1  # Move to the previous character\n",
        "\n",
        "print(\"Reversed string:\", reversed_string)\n"
      ],
      "metadata": {
        "colab": {
          "base_uri": "https://localhost:8080/"
        },
        "id": "ZkMlkThbSA0g",
        "outputId": "5d265190-7dcb-45d8-fb92-b5037764d0ff"
      },
      "execution_count": null,
      "outputs": [
        {
          "output_type": "stream",
          "name": "stdout",
          "text": [
            "Enter a string: Nand\n",
            "Reversed string: dnaN\n"
          ]
        }
      ]
    },
    {
      "cell_type": "markdown",
      "source": [
        "15. Write a Python program to calculate the factorial of a number provided by the user using a while loop.\n",
        "\n",
        "Ans."
      ],
      "metadata": {
        "id": "kN0-m3bPSHsz"
      }
    },
    {
      "cell_type": "code",
      "source": [
        "# Get input from the user\n",
        "num = int(input(\"Enter a non-negative integer: \"))\n",
        "\n",
        "# Initialize factorial result\n",
        "factorial = 1\n",
        "current = num\n",
        "\n",
        "# Check for negative numbers\n",
        "if num < 0:\n",
        "    print(\"Factorial does not exist for negative numbers.\")\n",
        "else:\n",
        "    # Calculate factorial using while loop\n",
        "    while current > 0:\n",
        "        factorial *= current\n",
        "        current -= 1\n",
        "\n",
        "    print(f\"The factorial of {num} is {factorial}.\")\n"
      ],
      "metadata": {
        "colab": {
          "base_uri": "https://localhost:8080/"
        },
        "id": "uadG-w2ASR9t",
        "outputId": "41e60487-f99b-4e8f-eb9b-77cfb0330fda"
      },
      "execution_count": null,
      "outputs": [
        {
          "output_type": "stream",
          "name": "stdout",
          "text": [
            "Enter a non-negative integer: 4\n",
            "The factorial of 4 is 24.\n"
          ]
        }
      ]
    }
  ]
}